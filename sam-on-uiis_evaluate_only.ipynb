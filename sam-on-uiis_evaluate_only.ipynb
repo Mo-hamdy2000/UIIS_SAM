{
 "cells": [
  {
   "cell_type": "code",
   "execution_count": 1,
   "id": "1fda934a",
   "metadata": {
    "execution": {
     "iopub.execute_input": "2024-12-13T21:09:23.717798Z",
     "iopub.status.busy": "2024-12-13T21:09:23.717516Z",
     "iopub.status.idle": "2024-12-13T21:09:33.241619Z",
     "shell.execute_reply": "2024-12-13T21:09:33.240442Z"
    },
    "papermill": {
     "duration": 9.529995,
     "end_time": "2024-12-13T21:09:33.243704",
     "exception": false,
     "start_time": "2024-12-13T21:09:23.713709",
     "status": "completed"
    },
    "tags": []
   },
   "outputs": [
    {
     "name": "stdout",
     "output_type": "stream",
     "text": [
      "Collecting pycocotools\r\n",
      "  Downloading pycocotools-2.0.8-cp310-cp310-manylinux_2_17_x86_64.manylinux2014_x86_64.whl.metadata (1.1 kB)\r\n",
      "Requirement already satisfied: matplotlib>=2.1.0 in /opt/conda/lib/python3.10/site-packages (from pycocotools) (3.7.5)\r\n",
      "Requirement already satisfied: numpy in /opt/conda/lib/python3.10/site-packages (from pycocotools) (1.26.4)\r\n",
      "Requirement already satisfied: contourpy>=1.0.1 in /opt/conda/lib/python3.10/site-packages (from matplotlib>=2.1.0->pycocotools) (1.2.1)\r\n",
      "Requirement already satisfied: cycler>=0.10 in /opt/conda/lib/python3.10/site-packages (from matplotlib>=2.1.0->pycocotools) (0.12.1)\r\n",
      "Requirement already satisfied: fonttools>=4.22.0 in /opt/conda/lib/python3.10/site-packages (from matplotlib>=2.1.0->pycocotools) (4.53.0)\r\n",
      "Requirement already satisfied: kiwisolver>=1.0.1 in /opt/conda/lib/python3.10/site-packages (from matplotlib>=2.1.0->pycocotools) (1.4.5)\r\n",
      "Requirement already satisfied: packaging>=20.0 in /opt/conda/lib/python3.10/site-packages (from matplotlib>=2.1.0->pycocotools) (21.3)\r\n",
      "Requirement already satisfied: pillow>=6.2.0 in /opt/conda/lib/python3.10/site-packages (from matplotlib>=2.1.0->pycocotools) (10.3.0)\r\n",
      "Requirement already satisfied: pyparsing>=2.3.1 in /opt/conda/lib/python3.10/site-packages (from matplotlib>=2.1.0->pycocotools) (3.1.2)\r\n",
      "Requirement already satisfied: python-dateutil>=2.7 in /opt/conda/lib/python3.10/site-packages (from matplotlib>=2.1.0->pycocotools) (2.9.0.post0)\r\n",
      "Requirement already satisfied: six>=1.5 in /opt/conda/lib/python3.10/site-packages (from python-dateutil>=2.7->matplotlib>=2.1.0->pycocotools) (1.16.0)\r\n",
      "Downloading pycocotools-2.0.8-cp310-cp310-manylinux_2_17_x86_64.manylinux2014_x86_64.whl (427 kB)\r\n",
      "\u001b[2K   \u001b[90m━━━━━━━━━━━━━━━━━━━━━━━━━━━━━━━━━━━━━━━━\u001b[0m \u001b[32m427.8/427.8 kB\u001b[0m \u001b[31m7.9 MB/s\u001b[0m eta \u001b[36m0:00:00\u001b[0m\r\n",
      "\u001b[?25hInstalling collected packages: pycocotools\r\n",
      "Successfully installed pycocotools-2.0.8\r\n"
     ]
    }
   ],
   "source": [
    "!pip install pycocotools"
   ]
  },
  {
   "cell_type": "markdown",
   "id": "30b98ea3",
   "metadata": {
    "papermill": {
     "duration": 0.002354,
     "end_time": "2024-12-13T21:09:33.249111",
     "exception": false,
     "start_time": "2024-12-13T21:09:33.246757",
     "status": "completed"
    },
    "tags": []
   },
   "source": [
    "# Imports"
   ]
  },
  {
   "cell_type": "code",
   "execution_count": 2,
   "id": "cad74e7c",
   "metadata": {
    "execution": {
     "iopub.execute_input": "2024-12-13T21:09:33.255412Z",
     "iopub.status.busy": "2024-12-13T21:09:33.255118Z",
     "iopub.status.idle": "2024-12-13T21:09:37.744840Z",
     "shell.execute_reply": "2024-12-13T21:09:37.744085Z"
    },
    "papermill": {
     "duration": 4.495201,
     "end_time": "2024-12-13T21:09:37.746709",
     "exception": false,
     "start_time": "2024-12-13T21:09:33.251508",
     "status": "completed"
    },
    "tags": []
   },
   "outputs": [],
   "source": [
    "import os\n",
    "import json\n",
    "import numpy as np\n",
    "import cv2\n",
    "import torch\n",
    "from segment_anything import sam_model_registry, SamPredictor\n",
    "from pycocotools.coco import COCO\n",
    "from pycocotools.cocoeval import COCOeval\n",
    "import pycocotools.mask as maskUtils\n",
    "import matplotlib.pyplot as plt\n",
    "from skimage.draw import polygon\n",
    "from functools import singledispatch"
   ]
  },
  {
   "cell_type": "markdown",
   "id": "60a0656d",
   "metadata": {
    "papermill": {
     "duration": 0.002324,
     "end_time": "2024-12-13T21:09:37.751756",
     "exception": false,
     "start_time": "2024-12-13T21:09:37.749432",
     "status": "completed"
    },
    "tags": []
   },
   "source": [
    "# Config"
   ]
  },
  {
   "cell_type": "code",
   "execution_count": 3,
   "id": "41d190e5",
   "metadata": {
    "execution": {
     "iopub.execute_input": "2024-12-13T21:09:37.757594Z",
     "iopub.status.busy": "2024-12-13T21:09:37.757264Z",
     "iopub.status.idle": "2024-12-13T21:09:37.761927Z",
     "shell.execute_reply": "2024-12-13T21:09:37.761178Z"
    },
    "papermill": {
     "duration": 0.00944,
     "end_time": "2024-12-13T21:09:37.763522",
     "exception": false,
     "start_time": "2024-12-13T21:09:37.754082",
     "status": "completed"
    },
    "tags": []
   },
   "outputs": [],
   "source": [
    "CHECKPOINT_PATH = '/kaggle/input/sam/other/default/1/sam_vit_l_0b3195.pth'\n",
    "VAL_IMAGES_PATH = '/kaggle/input/underwaterimageinstancesegmentation/UIIS/UDW/val'\n",
    "VAL_ANNOTATIONS_PATH = '/kaggle/input/underwaterimageinstancesegmentation/UIIS/UDW/annotations/val.json'\n",
    "\n",
    "@singledispatch\n",
    "def to_serializable(val):\n",
    "    \"\"\"Used by default.\"\"\"\n",
    "    return str(val)\n",
    "\n",
    "@to_serializable.register(np.float32)\n",
    "def ts_float32(val):\n",
    "    \"\"\"Used if *val* is an instance of numpy.float32.\"\"\"\n",
    "    return float(val)\n",
    "\n",
    "@to_serializable.register(np.float64)\n",
    "def ts_float64(val):\n",
    "    \"\"\"Used if *val* is an instance of numpy.float64.\"\"\"\n",
    "    return float(val)"
   ]
  },
  {
   "cell_type": "markdown",
   "id": "990e5c6e",
   "metadata": {
    "papermill": {
     "duration": 0.002197,
     "end_time": "2024-12-13T21:09:37.768104",
     "exception": false,
     "start_time": "2024-12-13T21:09:37.765907",
     "status": "completed"
    },
    "tags": []
   },
   "source": [
    "# Load the Model"
   ]
  },
  {
   "cell_type": "code",
   "execution_count": 4,
   "id": "9a4c2020",
   "metadata": {
    "execution": {
     "iopub.execute_input": "2024-12-13T21:09:37.774725Z",
     "iopub.status.busy": "2024-12-13T21:09:37.774502Z",
     "iopub.status.idle": "2024-12-13T21:09:49.000908Z",
     "shell.execute_reply": "2024-12-13T21:09:48.999932Z"
    },
    "papermill": {
     "duration": 11.231534,
     "end_time": "2024-12-13T21:09:49.002968",
     "exception": false,
     "start_time": "2024-12-13T21:09:37.771434",
     "status": "completed"
    },
    "tags": []
   },
   "outputs": [
    {
     "name": "stderr",
     "output_type": "stream",
     "text": [
      "/opt/conda/lib/python3.10/site-packages/segment_anything/build_sam.py:105: FutureWarning: You are using `torch.load` with `weights_only=False` (the current default value), which uses the default pickle module implicitly. It is possible to construct malicious pickle data which will execute arbitrary code during unpickling (See https://github.com/pytorch/pytorch/blob/main/SECURITY.md#untrusted-models for more details). In a future release, the default value for `weights_only` will be flipped to `True`. This limits the functions that could be executed during unpickling. Arbitrary objects will no longer be allowed to be loaded via this mode unless they are explicitly allowlisted by the user via `torch.serialization.add_safe_globals`. We recommend you start setting `weights_only=True` for any use case where you don't have full control of the loaded file. Please open an issue on GitHub for any issues related to this experimental feature.\n",
      "  state_dict = torch.load(f)\n"
     ]
    }
   ],
   "source": [
    "device = torch.device('cuda' if torch.cuda.is_available() else 'cpu')\n",
    "sam = sam_model_registry['vit_l'](checkpoint=CHECKPOINT_PATH).to(device)\n",
    "predictor = SamPredictor(sam)"
   ]
  },
  {
   "cell_type": "markdown",
   "id": "5dddf42f",
   "metadata": {
    "papermill": {
     "duration": 0.002368,
     "end_time": "2024-12-13T21:09:49.008144",
     "exception": false,
     "start_time": "2024-12-13T21:09:49.005776",
     "status": "completed"
    },
    "tags": []
   },
   "source": [
    "# Visualization methods"
   ]
  },
  {
   "cell_type": "code",
   "execution_count": 5,
   "id": "9d508354",
   "metadata": {
    "execution": {
     "iopub.execute_input": "2024-12-13T21:09:49.014224Z",
     "iopub.status.busy": "2024-12-13T21:09:49.013943Z",
     "iopub.status.idle": "2024-12-13T21:09:49.018948Z",
     "shell.execute_reply": "2024-12-13T21:09:49.018154Z"
    },
    "papermill": {
     "duration": 0.00999,
     "end_time": "2024-12-13T21:09:49.020544",
     "exception": false,
     "start_time": "2024-12-13T21:09:49.010554",
     "status": "completed"
    },
    "tags": []
   },
   "outputs": [],
   "source": [
    "def visualize_sample(image_rgb, gt_mask_combined, mask):\n",
    "    plt.figure(figsize=(15, 5))\n",
    "\n",
    "    plt.subplot(1, 3, 1)\n",
    "    plt.imshow(image_rgb)\n",
    "    plt.title('Original Image')\n",
    "    plt.axis('off')\n",
    "\n",
    "    plt.subplot(1, 3, 2)\n",
    "    plt.imshow(gt_mask_combined, cmap='gray')\n",
    "    plt.title('Ground Truth Mask')\n",
    "    plt.axis('off')\n",
    "\n",
    "    plt.subplot(1, 3, 3)\n",
    "    plt.imshow(mask, cmap='gray')\n",
    "    plt.title('Predicted Mask')\n",
    "    plt.axis('off')\n",
    "\n",
    "    plt.show()"
   ]
  },
  {
   "cell_type": "markdown",
   "id": "bc600818",
   "metadata": {
    "papermill": {
     "duration": 0.002262,
     "end_time": "2024-12-13T21:09:49.025428",
     "exception": false,
     "start_time": "2024-12-13T21:09:49.023166",
     "status": "completed"
    },
    "tags": []
   },
   "source": [
    "# Evaluating"
   ]
  },
  {
   "cell_type": "code",
   "execution_count": 6,
   "id": "44b4e256",
   "metadata": {
    "execution": {
     "iopub.execute_input": "2024-12-13T21:09:49.031339Z",
     "iopub.status.busy": "2024-12-13T21:09:49.031079Z",
     "iopub.status.idle": "2024-12-13T21:26:04.605888Z",
     "shell.execute_reply": "2024-12-13T21:26:04.605000Z"
    },
    "papermill": {
     "duration": 975.580121,
     "end_time": "2024-12-13T21:26:04.607950",
     "exception": false,
     "start_time": "2024-12-13T21:09:49.027829",
     "status": "completed"
    },
    "tags": []
   },
   "outputs": [
    {
     "name": "stdout",
     "output_type": "stream",
     "text": [
      "loading annotations into memory...\n",
      "Done (t=0.23s)\n",
      "creating index...\n",
      "index created!\n",
      "Loading and preparing results...\n",
      "DONE (t=0.24s)\n",
      "creating index...\n",
      "index created!\n",
      "Running per image evaluation...\n",
      "Evaluate annotation type *segm*\n",
      "DONE (t=0.80s).\n",
      "Accumulating evaluation results...\n",
      "DONE (t=0.11s).\n",
      " Average Precision  (AP) @[ IoU=0.50:0.95 | area=   all | maxDets=100 ] = 0.000\n",
      " Average Precision  (AP) @[ IoU=0.50      | area=   all | maxDets=100 ] = 0.000\n",
      " Average Precision  (AP) @[ IoU=0.75      | area=   all | maxDets=100 ] = 0.000\n",
      " Average Precision  (AP) @[ IoU=0.50:0.95 | area= small | maxDets=100 ] = 0.000\n",
      " Average Precision  (AP) @[ IoU=0.50:0.95 | area=medium | maxDets=100 ] = 0.000\n",
      " Average Precision  (AP) @[ IoU=0.50:0.95 | area= large | maxDets=100 ] = 0.000\n",
      " Average Recall     (AR) @[ IoU=0.50:0.95 | area=   all | maxDets=  1 ] = 0.000\n",
      " Average Recall     (AR) @[ IoU=0.50:0.95 | area=   all | maxDets= 10 ] = 0.000\n",
      " Average Recall     (AR) @[ IoU=0.50:0.95 | area=   all | maxDets=100 ] = 0.000\n",
      " Average Recall     (AR) @[ IoU=0.50:0.95 | area= small | maxDets=100 ] = 0.000\n",
      " Average Recall     (AR) @[ IoU=0.50:0.95 | area=medium | maxDets=100 ] = 0.000\n",
      " Average Recall     (AR) @[ IoU=0.50:0.95 | area= large | maxDets=100 ] = 0.003\n"
     ]
    }
   ],
   "source": [
    "with open(VAL_ANNOTATIONS_PATH) as f:\n",
    "    coco_data = json.load(f)\n",
    "coco_gt = COCO(VAL_ANNOTATIONS_PATH)\n",
    "results = []\n",
    "\n",
    "for img_idx, img_info in enumerate(coco_data['images']):\n",
    "    img_id = img_info['id']\n",
    "    img_path = os.path.join(VAL_IMAGES_PATH, img_info['file_name'])\n",
    "\n",
    "    image = cv2.imread(img_path)\n",
    "    image_rgb = cv2.cvtColor(image, cv2.COLOR_BGR2RGB)\n",
    "    predictor.set_image(image_rgb)\n",
    "\n",
    "    boxes = np.array([[0, 0, img_info['width'], img_info['height']]])\n",
    "    masks, scores, _ = predictor.predict(box=boxes, multimask_output=True)\n",
    "\n",
    "    gt_mask_combined = np.zeros((img_info['height'], img_info['width']), dtype=np.uint8)\n",
    "\n",
    "    ann_ids = coco_gt.getAnnIds(imgIds=img_id)\n",
    "    gt_annotations = coco_gt.loadAnns(ann_ids)\n",
    "    \n",
    "    for annotation in gt_annotations:\n",
    "        poly_coords = annotation['segmentation'][0]\n",
    "        rr, cc = polygon(poly_coords[1::2], poly_coords[0::2], gt_mask_combined.shape)\n",
    "        gt_mask_combined[rr, cc] = 1\n",
    "\n",
    "    for i in range(len(masks)):\n",
    "        mask = masks[i]\n",
    "        score = scores[i]\n",
    "        if score > 0.5:\n",
    "            rle = maskUtils.encode(np.asfortranarray(mask))\n",
    "            rle['counts'] = rle['counts'].decode('utf-8')\n",
    "            \n",
    "            results.append({\n",
    "                'image_id': img_id,\n",
    "                'category_id': 1,\n",
    "                'segmentation': rle,\n",
    "                'score': score,\n",
    "                'area': np.sum(mask),\n",
    "            })\n",
    "            \n",
    "\n",
    "with open('results.json', 'w') as f:\n",
    "    json.dump(results, f, default=to_serializable)\n",
    "\n",
    "coco_dt = coco_gt.loadRes('results.json')\n",
    "coco_eval = COCOeval(coco_gt, coco_dt, 'segm')\n",
    "coco_eval.evaluate()\n",
    "coco_eval.accumulate()\n",
    "coco_eval.summarize()"
   ]
  }
 ],
 "metadata": {
  "kaggle": {
   "accelerator": "nvidiaTeslaT4",
   "dataSources": [
    {
     "datasetId": 6244847,
     "sourceId": 10120631,
     "sourceType": "datasetVersion"
    },
    {
     "isSourceIdPinned": true,
     "modelId": 184761,
     "modelInstanceId": 162411,
     "sourceId": 190514,
     "sourceType": "modelInstanceVersion"
    }
   ],
   "dockerImageVersionId": 30805,
   "isGpuEnabled": true,
   "isInternetEnabled": true,
   "language": "python",
   "sourceType": "notebook"
  },
  "kernelspec": {
   "display_name": "Python 3",
   "language": "python",
   "name": "python3"
  },
  "language_info": {
   "codemirror_mode": {
    "name": "ipython",
    "version": 3
   },
   "file_extension": ".py",
   "mimetype": "text/x-python",
   "name": "python",
   "nbconvert_exporter": "python",
   "pygments_lexer": "ipython3",
   "version": "3.10.14"
  },
  "papermill": {
   "default_parameters": {},
   "duration": 1004.726057,
   "end_time": "2024-12-13T21:26:06.032269",
   "environment_variables": {},
   "exception": null,
   "input_path": "__notebook__.ipynb",
   "output_path": "__notebook__.ipynb",
   "parameters": {},
   "start_time": "2024-12-13T21:09:21.306212",
   "version": "2.6.0"
  }
 },
 "nbformat": 4,
 "nbformat_minor": 5
}
